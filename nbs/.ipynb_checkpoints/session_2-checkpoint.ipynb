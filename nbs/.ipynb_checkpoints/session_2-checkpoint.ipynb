{
 "cells": [
  {
   "cell_type": "markdown",
   "id": "f43cb45d-4676-4410-af1f-e4376c4d423c",
   "metadata": {},
   "source": [
    "# Session 2\n",
    "---\n",
    "> Jupyter Notebook"
   ]
  },
  {
   "cell_type": "markdown",
   "id": "229d159f-78c6-41dc-adf8-f9681dcbe0b2",
   "metadata": {},
   "source": [
    "- Use `m` key to convert selected cell to markdown.\n",
    "- or use `y` key to convert to code cell\n",
    "- ***to delete a cell*** press `d` twice, or use \"Edit\" menu."
   ]
  },
  {
   "cell_type": "code",
   "execution_count": 15,
   "id": "154a0270-abe7-4fcf-9870-816a53924804",
   "metadata": {},
   "outputs": [
    {
     "name": "stdout",
     "output_type": "stream",
     "text": [
      "5\n"
     ]
    }
   ],
   "source": [
    "# or use `y` to convert to code cell\n",
    "print(5)"
   ]
  },
  {
   "cell_type": "markdown",
   "id": "7d74a0e0-6fef-48ca-b14a-d34403fa0568",
   "metadata": {},
   "source": [
    "- bullet points\n",
    "- another point"
   ]
  },
  {
   "cell_type": "markdown",
   "id": "308609f7-8f79-43cb-91d0-88eb8295f25b",
   "metadata": {},
   "source": [
    "1. a\n",
    "1. b"
   ]
  },
  {
   "cell_type": "markdown",
   "id": "83ca8abd-8cc2-48f7-a3cd-1cefc0dc4204",
   "metadata": {},
   "source": [
    "Using LaTeX\n",
    "\n",
    "Try typing following into a markdown cell\n",
    "```\n",
    "$\\alpha, \\beta, \\gamma$ inline\n",
    "$$\\chi=10$$  equation\n",
    "```\n",
    "you should see this:"
   ]
  },
  {
   "cell_type": "markdown",
   "id": "51efba28-9d12-4e82-a12f-856a7dde236b",
   "metadata": {},
   "source": [
    "$\\alpha, \\beta, \\gamma$ inline\n",
    "$$\\chi=10$$ equation"
   ]
  },
  {
   "cell_type": "markdown",
   "id": "b3633170-d66f-4eba-a129-6aa4ec3341cc",
   "metadata": {},
   "source": [
    "```python\n",
    "# code\n",
    "print(\"hello\")\n",
    "1+1\n",
    "```"
   ]
  },
  {
   "cell_type": "markdown",
   "id": "88c70bcb-746a-430c-9529-8b0d31042a46",
   "metadata": {},
   "source": [
    "---"
   ]
  },
  {
   "cell_type": "markdown",
   "id": "1efe65ed-d435-4915-a93a-7c4273f546e9",
   "metadata": {},
   "source": [
    "Run your python code inside your notebook, including plotting:"
   ]
  },
  {
   "cell_type": "code",
   "execution_count": 6,
   "id": "8ed72abf-0cd6-4e1c-9bb1-630532ce0516",
   "metadata": {},
   "outputs": [],
   "source": [
    "import numpy as np\n",
    "import matplotlib.pyplot as plt"
   ]
  },
  {
   "cell_type": "code",
   "execution_count": 7,
   "id": "501b2fb1-9293-42c8-b52a-86bf980b003c",
   "metadata": {},
   "outputs": [
    {
     "data": {
      "text/plain": [
       "<module 'numpy' from '/Users/muratshagirov/miniconda/envs/anaconda/lib/python3.8/site-packages/numpy/__init__.py'>"
      ]
     },
     "execution_count": 7,
     "metadata": {},
     "output_type": "execute_result"
    }
   ],
   "source": [
    "np"
   ]
  },
  {
   "cell_type": "code",
   "execution_count": 8,
   "id": "19328a44-bb91-48fb-9243-a7b931bbe421",
   "metadata": {
    "scrolled": true,
    "tags": []
   },
   "outputs": [
    {
     "data": {
      "text/plain": [
       "\u001b[0;31mSignature:\u001b[0m \u001b[0mnp\u001b[0m\u001b[0;34m.\u001b[0m\u001b[0mones\u001b[0m\u001b[0;34m(\u001b[0m\u001b[0mshape\u001b[0m\u001b[0;34m,\u001b[0m \u001b[0mdtype\u001b[0m\u001b[0;34m=\u001b[0m\u001b[0;32mNone\u001b[0m\u001b[0;34m,\u001b[0m \u001b[0morder\u001b[0m\u001b[0;34m=\u001b[0m\u001b[0;34m'C'\u001b[0m\u001b[0;34m,\u001b[0m \u001b[0;34m*\u001b[0m\u001b[0;34m,\u001b[0m \u001b[0mlike\u001b[0m\u001b[0;34m=\u001b[0m\u001b[0;32mNone\u001b[0m\u001b[0;34m)\u001b[0m\u001b[0;34m\u001b[0m\u001b[0;34m\u001b[0m\u001b[0m\n",
       "\u001b[0;31mDocstring:\u001b[0m\n",
       "Return a new array of given shape and type, filled with ones.\n",
       "\n",
       "Parameters\n",
       "----------\n",
       "shape : int or sequence of ints\n",
       "    Shape of the new array, e.g., ``(2, 3)`` or ``2``.\n",
       "dtype : data-type, optional\n",
       "    The desired data-type for the array, e.g., `numpy.int8`.  Default is\n",
       "    `numpy.float64`.\n",
       "order : {'C', 'F'}, optional, default: C\n",
       "    Whether to store multi-dimensional data in row-major\n",
       "    (C-style) or column-major (Fortran-style) order in\n",
       "    memory.\n",
       "like : array_like\n",
       "    Reference object to allow the creation of arrays which are not\n",
       "    NumPy arrays. If an array-like passed in as ``like`` supports\n",
       "    the ``__array_function__`` protocol, the result will be defined\n",
       "    by it. In this case, it ensures the creation of an array object\n",
       "    compatible with that passed in via this argument.\n",
       "\n",
       "    .. note::\n",
       "        The ``like`` keyword is an experimental feature pending on\n",
       "        acceptance of :ref:`NEP 35 <NEP35>`.\n",
       "\n",
       "    .. versionadded:: 1.20.0\n",
       "\n",
       "Returns\n",
       "-------\n",
       "out : ndarray\n",
       "    Array of ones with the given shape, dtype, and order.\n",
       "\n",
       "See Also\n",
       "--------\n",
       "ones_like : Return an array of ones with shape and type of input.\n",
       "empty : Return a new uninitialized array.\n",
       "zeros : Return a new array setting values to zero.\n",
       "full : Return a new array of given shape filled with value.\n",
       "\n",
       "\n",
       "Examples\n",
       "--------\n",
       ">>> np.ones(5)\n",
       "array([1., 1., 1., 1., 1.])\n",
       "\n",
       ">>> np.ones((5,), dtype=int)\n",
       "array([1, 1, 1, 1, 1])\n",
       "\n",
       ">>> np.ones((2, 1))\n",
       "array([[1.],\n",
       "       [1.]])\n",
       "\n",
       ">>> s = (2,2)\n",
       ">>> np.ones(s)\n",
       "array([[1.,  1.],\n",
       "       [1.,  1.]])\n",
       "\u001b[0;31mFile:\u001b[0m      ~/miniconda/envs/anaconda/lib/python3.8/site-packages/numpy/core/numeric.py\n",
       "\u001b[0;31mType:\u001b[0m      function\n"
      ]
     },
     "metadata": {},
     "output_type": "display_data"
    }
   ],
   "source": [
    "np.ones?"
   ]
  },
  {
   "cell_type": "code",
   "execution_count": 11,
   "id": "4aed150d-eda3-435e-972d-309b8c304169",
   "metadata": {},
   "outputs": [
    {
     "data": {
      "text/plain": [
       "[<matplotlib.lines.Line2D at 0x7fd9a1fd7490>]"
      ]
     },
     "execution_count": 11,
     "metadata": {},
     "output_type": "execute_result"
    },
    {
     "data": {
      "image/png": "[encoded data removed]",
      "text/plain": [
       "<Figure size 432x288 with 1 Axes>"
      ]
     },
     "metadata": {
      "needs_background": "light"
     },
     "output_type": "display_data"
    }
   ],
   "source": [
    "plt.plot(np.random.rand(10))"
   ]
  },
  {
   "cell_type": "code",
   "execution_count": 14,
   "id": "f1ab5ccc-fa30-4dc1-8ac4-463f313e6c21",
   "metadata": {},
   "outputs": [
    {
     "data": {
      "text/plain": [
       "[<matplotlib.lines.Line2D at 0x7fd9a22dfd30>]"
      ]
     },
     "execution_count": 14,
     "metadata": {},
     "output_type": "execute_result"
    },
    {
     "data": {
      "image/png": "[encoded data removed]",
      "text/plain": [
       "<Figure size 432x288 with 1 Axes>"
      ]
     },
     "metadata": {
      "needs_background": "light"
     },
     "output_type": "display_data"
    }
   ],
   "source": [
    "plt.plot([1,2,3], [5,6,7], 'ro-', ms=10)"
   ]
  },
  {
   "cell_type": "markdown",
   "id": "acb252ee-89d6-46db-aa74-b07f6920183f",
   "metadata": {},
   "source": [
    "# Seaborn package"
   ]
  },
  {
   "cell_type": "code",
   "execution_count": 17,
   "id": "d57b631b-7f4e-4426-914d-1567bea98fe1",
   "metadata": {},
   "outputs": [],
   "source": [
    "import matplotlib.pyplot as plt\n",
    "import seaborn as sns"
   ]
  },
  {
   "cell_type": "code",
   "execution_count": 22,
   "id": "930306cd-2518-45e2-b509-eeb4fa36230a",
   "metadata": {},
   "outputs": [],
   "source": [
    "sns.set_theme(style='darkgrid', palette=\"pastel\")\n",
    "# or use plt.style.use('ggplot')"
   ]
  },
  {
   "cell_type": "code",
   "execution_count": 48,
   "id": "02cba762-a333-4fe8-9d57-9b985ee10173",
   "metadata": {},
   "outputs": [
    {
     "data": {
      "text/plain": [
       "[<matplotlib.lines.Line2D at 0x7fd9a41c9880>]"
      ]
     },
     "execution_count": 48,
     "metadata": {},
     "output_type": "execute_result"
    },
    {
     "data": {
      "image/png": "[encoded data removed]",
      "text/plain": [
       "<Figure size 288x288 with 1 Axes>"
      ]
     },
     "metadata": {},
     "output_type": "display_data"
    },
    {
     "data": {
      "image/png": "[encoded data removed]",
      "text/plain": [
       "<Figure size 360x360 with 1 Axes>"
      ]
     },
     "metadata": {},
     "output_type": "display_data"
    }
   ],
   "source": [
    "# if not stated \"plot\" calls plt.figure() with default arg-s\n",
    "plt.plot(2, 90,'ro', ms=20)\n",
    "\n",
    "# seaborn calls its own figure function with default arg-s\n",
    "sns.catplot(x=\"day\", y=\"total_bill\", data=tips)\n",
    "plt.plot(2, 90,'ro', ms=20)\n",
    "\n",
    "# Saving figures:\n",
    "# plt.savefig('test_plot_sess2.png', dpi=100)"
   ]
  },
  {
   "cell_type": "markdown",
   "id": "b115bc61-348b-4960-b81e-b2f758fa66db",
   "metadata": {},
   "source": [
    "# Next\n",
    "---\n",
    "\n",
    "- Lecture videos and codes from courses 1 and 2 in [\"Applied Data Science with Python Specialization\"](https://www.coursera.org/specializations/data-science-python#courses) by University of Michigan on coursera.\n",
    "- [Pandas tutorial](https://pandas.pydata.org/docs/getting_started/intro_tutorials/index.html) (working with tabular data)."
   ]
  },
  {
   "cell_type": "code",
   "execution_count": null,
   "id": "9e2dc722-f027-4057-8a10-aa8f8a4b917b",
   "metadata": {},
   "outputs": [],
   "source": []
  }
 ],
 "metadata": {
  "kernelspec": {
   "display_name": "Python 3",
   "language": "python",
   "name": "python3"
  },
  "language_info": {
   "codemirror_mode": {
    "name": "ipython",
    "version": 3
   },
   "file_extension": ".py",
   "mimetype": "text/x-python",
   "name": "python",
   "nbconvert_exporter": "python",
   "pygments_lexer": "ipython3",
   "version": "3.8.8"
  }
 },
 "nbformat": 4,
 "nbformat_minor": 5
}
