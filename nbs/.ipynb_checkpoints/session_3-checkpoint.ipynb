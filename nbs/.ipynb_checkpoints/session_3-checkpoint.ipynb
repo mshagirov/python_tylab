{
 "cells": [
  {
   "cell_type": "markdown",
   "id": "43636b2f-431a-439f-a86a-e2474cc80366",
   "metadata": {},
   "source": [
    "# Session 3\n",
    "---\n",
    "> Working with tabular data"
   ]
  },
  {
   "cell_type": "code",
   "execution_count": null,
   "id": "148e9965-0fad-4b8c-9f27-6e0c86981c5f",
   "metadata": {},
   "outputs": [],
   "source": [
    "import pandas as pd\n",
    "import numpy as np # pandas stores array data as Numpy arrays \n",
    "\n",
    "import matplotlib\n",
    "import matplotlib.pyplot as plt\n",
    "import seaborn as sns"
   ]
  },
  {
   "cell_type": "code",
   "execution_count": null,
   "id": "5cfcfe36-6a93-42de-a3fa-6434556843bf",
   "metadata": {},
   "outputs": [],
   "source": [
    "sns.set_theme() # sets default seaborn style"
   ]
  },
  {
   "cell_type": "markdown",
   "id": "b5ab0aa3-f0bb-40f9-a736-d698c9bdb9ba",
   "metadata": {},
   "source": [
    "- Today we will use seaborn for plotting, but we can reproduce or produce similar figures using purely matplotlib.\n",
    "- Think of seaborn as an interface to matplotlib.\n",
    "- As an exercise, try to produce some of these figures using matplotlib w/o seaborn functions."
   ]
  },
  {
   "cell_type": "markdown",
   "id": "dd7bddeb-9025-45e6-a76c-19b6fe8f0370",
   "metadata": {},
   "source": [
    "---\n",
    "References:\n",
    "- Seaborn plotting : https://seaborn.pydata.org/tutorial/function_overview.html\n",
    "- More on seaborn styles: https://seaborn.pydata.org/tutorial/aesthetics.html\n",
    "- Pandas+Seaborn example code: https://people.duke.edu/~ccc14/sta-663-2017/07_Data.html\n",
    "---"
   ]
  },
  {
   "cell_type": "markdown",
   "id": "42ed99f2-5eb6-4abe-bf74-7d588c09e53d",
   "metadata": {},
   "source": [
    "## Importing and Working with Tabular Data"
   ]
  },
  {
   "cell_type": "markdown",
   "id": "38a5fca4-f9ae-4232-a86f-213f3bd4de8d",
   "metadata": {},
   "source": [
    "Pandas comes with a wide variety of IO functions such as `read_csv`, and `read_sql`. Let's use `pandas.read_excel` to import MS Excel data.\n",
    "\n",
    "---\n",
    "Pandas References:\n",
    "- [Pandas importing guide](https://pandas.pydata.org/docs/user_guide/io.html)\n",
    "- [Indexing and selecting data](https://pandas.pydata.org/pandas-docs/stable/user_guide/indexing.html)\n",
    "---"
   ]
  },
  {
   "cell_type": "code",
   "execution_count": null,
   "id": "7aac1d22-c5fc-4b20-b895-2b7d65389c23",
   "metadata": {},
   "outputs": [],
   "source": [
    "df = pd.read_excel('../python_tylab_data/Hara recoil mod.xls',sheet_name='values')\n",
    "df"
   ]
  },
  {
   "cell_type": "code",
   "execution_count": null,
   "id": "e5822aaa-ced1-453c-98c2-1cab6acd8b73",
   "metadata": {},
   "outputs": [],
   "source": [
    "from IPython.display import Markdown\n",
    "Markdown('![](https://media.giphy.com/media/l4FGGafcOHmrlQxG0/giphy.gif)')"
   ]
  },
  {
   "cell_type": "markdown",
   "id": "5e6fde67-eb33-4108-bcdc-b8995de69578",
   "metadata": {},
   "source": [
    "Let's clean it up a little by **removing \"footers\"** and **setting row 1 as column a header** (indexing starts at 0)"
   ]
  },
  {
   "cell_type": "code",
   "execution_count": null,
   "id": "e1182bdf-dd4c-4dfc-a1c7-b31b1e6ed2c7",
   "metadata": {},
   "outputs": [],
   "source": [
    "df = pd.read_excel('../python_tylab_data/Hara recoil mod.xls',sheet_name='values', header=[1], skipfooter=2)\n",
    "df"
   ]
  },
  {
   "cell_type": "code",
   "execution_count": null,
   "id": "36d07bc4-6c0b-4397-954e-efc664979650",
   "metadata": {},
   "outputs": [],
   "source": [
    "df.loc[118:123,:]"
   ]
  },
  {
   "cell_type": "code",
   "execution_count": null,
   "id": "6510db9c-c25f-4dd0-bae1-5c8167ff7b82",
   "metadata": {},
   "outputs": [],
   "source": [
    "Markdown('![](https://media.giphy.com/media/sS8YbjrTzu4KI/giphy.gif)')"
   ]
  },
  {
   "cell_type": "markdown",
   "id": "c5a82767-3bed-4636-962a-559581050f13",
   "metadata": {},
   "source": [
    "Let's use `converters` arg for reading and converting the column \"date\" to `pandas.Timestamp`—a pandas' version of python `datetime` object.\n",
    "- Alternatively, we can convert our dates to any numerical type such as `int` or `str` (try it out yourself), but since we are working with dates it is better to explicitly set our \"date\" column to correct format, since we are assuming they are dates. This will help us spot any mistakes in our code or in MS Excel document early on."
   ]
  },
  {
   "cell_type": "code",
   "execution_count": null,
   "id": "6dbe440b-61d8-437f-8dfb-2d3debea23ad",
   "metadata": {},
   "outputs": [],
   "source": [
    "# lambda function\n",
    "convert_to_datetime = lambda x: pd.to_datetime(x,format=\"%y%m%d\",errors='coerce')\n",
    "\n",
    "# same as\n",
    "def fn_convert_to_datetime(x):\n",
    "    # python function\n",
    "    return pd.to_datetime(x,format=\"%y%m%d\",errors='coerce')"
   ]
  },
  {
   "cell_type": "code",
   "execution_count": null,
   "id": "08869e1e-9e19-442b-bfc6-8190e3198817",
   "metadata": {},
   "outputs": [],
   "source": [
    "df = pd.read_excel('../python_tylab_data/Hara recoil mod.xls',sheet_name='values', header=[1],skipfooter=2,\n",
    "                   parse_dates=[0],\n",
    "                   converters={0: convert_to_datetime} )\n",
    "df"
   ]
  },
  {
   "cell_type": "code",
   "execution_count": null,
   "id": "5249d65f-90d4-4718-8e29-31f5050afd47",
   "metadata": {},
   "outputs": [],
   "source": [
    "df.loc[118:123,:]"
   ]
  },
  {
   "cell_type": "markdown",
   "id": "71ed7fef-6cc7-44a9-b49b-7504443a6ef6",
   "metadata": {},
   "source": [
    "## Exploratory Data Analysis using Seaborn\n",
    "> IBM blog about exploratory data analysis: [link](https://www.ibm.com/cloud/learn/exploratory-data-analysis)"
   ]
  },
  {
   "cell_type": "code",
   "execution_count": null,
   "id": "3f961ca4-8339-4bea-91da-fd0938da1c68",
   "metadata": {},
   "outputs": [],
   "source": [
    "# add new series \"isros\": True/False\n",
    "df['isros'] = df['Rosette??']=='YES'\n",
    "df.head()"
   ]
  },
  {
   "cell_type": "code",
   "execution_count": null,
   "id": "c42e580b-d2ab-438c-9e63-cb731fec9aaf",
   "metadata": {},
   "outputs": [],
   "source": [
    "df"
   ]
  },
  {
   "cell_type": "code",
   "execution_count": null,
   "id": "6ec4ba6e-eacc-47af-b83d-28e7eee9814a",
   "metadata": {},
   "outputs": [],
   "source": [
    "g = sns.PairGrid(df, hue=\"isros\", diag_sharey=False, corner=True,\n",
    "                vars=[\"recoil speed [um/sec]\", \"deformation speed[um/sec]\", \"Rounghness\"])\n",
    "g.map_lower(sns.scatterplot)\n",
    "g.map_diag(sns.kdeplot)\n",
    "plt.show()"
   ]
  },
  {
   "cell_type": "code",
   "execution_count": null,
   "id": "d7eda855-813e-423b-9e43-fbb8d28687ee",
   "metadata": {},
   "outputs": [],
   "source": [
    "g = sns.PairGrid(df, hue=\"Behavior\", diag_sharey=False,\n",
    "                vars=[\"recoil speed [um/sec]\", \"deformation speed[um/sec]\", \"Rounghness\"])\n",
    "g.map_lower(sns.scatterplot)\n",
    "g.map_upper(sns.scatterplot)\n",
    "g.map_diag(sns.kdeplot)\n",
    "plt.show()"
   ]
  },
  {
   "cell_type": "code",
   "execution_count": null,
   "id": "9a91b033-ea7f-443c-b2bf-37949a92c254",
   "metadata": {},
   "outputs": [],
   "source": []
  }
 ],
 "metadata": {
  "kernelspec": {
   "display_name": "Python 3",
   "language": "python",
   "name": "python3"
  },
  "language_info": {
   "codemirror_mode": {
    "name": "ipython",
    "version": 3
   },
   "file_extension": ".py",
   "mimetype": "text/x-python",
   "name": "python",
   "nbconvert_exporter": "python",
   "pygments_lexer": "ipython3",
   "version": "3.8.8"
  }
 },
 "nbformat": 4,
 "nbformat_minor": 5
}
